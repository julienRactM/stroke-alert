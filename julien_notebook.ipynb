{
 "cells": [
  {
   "cell_type": "markdown",
   "metadata": {},
   "source": [
    "1. Imports"
   ]
  },
  {
   "cell_type": "code",
   "execution_count": 2,
   "metadata": {},
   "outputs": [],
   "source": [
    "import pandas as pd\n",
    "import numpy as np\n",
    "\n",
    "import matplotlib.pyplot as plt\n",
    "import seaborn as sns\n",
    "# %load_ext autoreload\n",
    "#%autoreload 2\n",
    "\n",
    "# import re"
   ]
  },
  {
   "cell_type": "code",
   "execution_count": 3,
   "metadata": {},
   "outputs": [],
   "source": [
    "from sklearn.linear_model import LinearRegression\n",
    "from sklearn.linear_model import LogisticRegression\n",
    "\n",
    "from sklearn.model_selection import train_test_split\n",
    "from sklearn.model_selection import cross_validate\n",
    "from sklearn.model_selection import learning_curve"
   ]
  },
  {
   "cell_type": "code",
   "execution_count": 4,
   "metadata": {},
   "outputs": [],
   "source": [
    "from sklearn.model_selection import train_test_split\n",
    "from sklearn.compose import ColumnTransformer\n",
    "from sklearn.pipeline import Pipeline\n",
    "from sklearn.preprocessing import OneHotEncoder, StandardScaler, MinMaxScaler, RobustScaler\n",
    "\n",
    "from sklearn.linear_model import LinearRegression, LogisticRegression\n",
    "\n",
    "\n",
    "from sklearn.metrics import mean_squared_error\n",
    "from sklearn.metrics import recall_score\n",
    "\n",
    "import joblib"
   ]
  },
  {
   "cell_type": "code",
   "execution_count": 5,
   "metadata": {},
   "outputs": [],
   "source": [
    "df = pd.read_csv(\"healthcare-dataset-stroke-data.csv\")"
   ]
  },
  {
   "cell_type": "code",
   "execution_count": 6,
   "metadata": {},
   "outputs": [
    {
     "data": {
      "text/html": [
       "<div>\n",
       "<style scoped>\n",
       "    .dataframe tbody tr th:only-of-type {\n",
       "        vertical-align: middle;\n",
       "    }\n",
       "\n",
       "    .dataframe tbody tr th {\n",
       "        vertical-align: top;\n",
       "    }\n",
       "\n",
       "    .dataframe thead th {\n",
       "        text-align: right;\n",
       "    }\n",
       "</style>\n",
       "<table border=\"1\" class=\"dataframe\">\n",
       "  <thead>\n",
       "    <tr style=\"text-align: right;\">\n",
       "      <th></th>\n",
       "      <th>id</th>\n",
       "      <th>gender</th>\n",
       "      <th>age</th>\n",
       "      <th>hypertension</th>\n",
       "      <th>heart_disease</th>\n",
       "      <th>ever_married</th>\n",
       "      <th>work_type</th>\n",
       "      <th>Residence_type</th>\n",
       "      <th>avg_glucose_level</th>\n",
       "      <th>bmi</th>\n",
       "      <th>smoking_status</th>\n",
       "      <th>stroke</th>\n",
       "    </tr>\n",
       "  </thead>\n",
       "  <tbody>\n",
       "    <tr>\n",
       "      <th>0</th>\n",
       "      <td>9046</td>\n",
       "      <td>Male</td>\n",
       "      <td>67.0</td>\n",
       "      <td>0</td>\n",
       "      <td>1</td>\n",
       "      <td>Yes</td>\n",
       "      <td>Private</td>\n",
       "      <td>Urban</td>\n",
       "      <td>228.69</td>\n",
       "      <td>36.6</td>\n",
       "      <td>formerly smoked</td>\n",
       "      <td>1</td>\n",
       "    </tr>\n",
       "    <tr>\n",
       "      <th>1</th>\n",
       "      <td>51676</td>\n",
       "      <td>Female</td>\n",
       "      <td>61.0</td>\n",
       "      <td>0</td>\n",
       "      <td>0</td>\n",
       "      <td>Yes</td>\n",
       "      <td>Self-employed</td>\n",
       "      <td>Rural</td>\n",
       "      <td>202.21</td>\n",
       "      <td>NaN</td>\n",
       "      <td>never smoked</td>\n",
       "      <td>1</td>\n",
       "    </tr>\n",
       "    <tr>\n",
       "      <th>2</th>\n",
       "      <td>31112</td>\n",
       "      <td>Male</td>\n",
       "      <td>80.0</td>\n",
       "      <td>0</td>\n",
       "      <td>1</td>\n",
       "      <td>Yes</td>\n",
       "      <td>Private</td>\n",
       "      <td>Rural</td>\n",
       "      <td>105.92</td>\n",
       "      <td>32.5</td>\n",
       "      <td>never smoked</td>\n",
       "      <td>1</td>\n",
       "    </tr>\n",
       "    <tr>\n",
       "      <th>3</th>\n",
       "      <td>60182</td>\n",
       "      <td>Female</td>\n",
       "      <td>49.0</td>\n",
       "      <td>0</td>\n",
       "      <td>0</td>\n",
       "      <td>Yes</td>\n",
       "      <td>Private</td>\n",
       "      <td>Urban</td>\n",
       "      <td>171.23</td>\n",
       "      <td>34.4</td>\n",
       "      <td>smokes</td>\n",
       "      <td>1</td>\n",
       "    </tr>\n",
       "    <tr>\n",
       "      <th>4</th>\n",
       "      <td>1665</td>\n",
       "      <td>Female</td>\n",
       "      <td>79.0</td>\n",
       "      <td>1</td>\n",
       "      <td>0</td>\n",
       "      <td>Yes</td>\n",
       "      <td>Self-employed</td>\n",
       "      <td>Rural</td>\n",
       "      <td>174.12</td>\n",
       "      <td>24.0</td>\n",
       "      <td>never smoked</td>\n",
       "      <td>1</td>\n",
       "    </tr>\n",
       "  </tbody>\n",
       "</table>\n",
       "</div>"
      ],
      "text/plain": [
       "      id  gender   age  hypertension  heart_disease ever_married  \\\n",
       "0   9046    Male  67.0             0              1          Yes   \n",
       "1  51676  Female  61.0             0              0          Yes   \n",
       "2  31112    Male  80.0             0              1          Yes   \n",
       "3  60182  Female  49.0             0              0          Yes   \n",
       "4   1665  Female  79.0             1              0          Yes   \n",
       "\n",
       "       work_type Residence_type  avg_glucose_level   bmi   smoking_status  \\\n",
       "0        Private          Urban             228.69  36.6  formerly smoked   \n",
       "1  Self-employed          Rural             202.21   NaN     never smoked   \n",
       "2        Private          Rural             105.92  32.5     never smoked   \n",
       "3        Private          Urban             171.23  34.4           smokes   \n",
       "4  Self-employed          Rural             174.12  24.0     never smoked   \n",
       "\n",
       "   stroke  \n",
       "0       1  \n",
       "1       1  \n",
       "2       1  \n",
       "3       1  \n",
       "4       1  "
      ]
     },
     "execution_count": 6,
     "metadata": {},
     "output_type": "execute_result"
    }
   ],
   "source": [
    "df.head(5)"
   ]
  },
  {
   "cell_type": "code",
   "execution_count": 7,
   "metadata": {},
   "outputs": [
    {
     "data": {
      "text/plain": [
       "ever_married\n",
       "Yes    3353\n",
       "No     1757\n",
       "Name: count, dtype: int64"
      ]
     },
     "execution_count": 7,
     "metadata": {},
     "output_type": "execute_result"
    }
   ],
   "source": [
    "df.ever_married.value_counts()"
   ]
  },
  {
   "cell_type": "code",
   "execution_count": null,
   "metadata": {},
   "outputs": [],
   "source": []
  },
  {
   "cell_type": "code",
   "execution_count": 8,
   "metadata": {},
   "outputs": [
    {
     "data": {
      "text/plain": [
       "gender\n",
       "Female    2994\n",
       "Male      2115\n",
       "Other        1\n",
       "Name: count, dtype: int64"
      ]
     },
     "execution_count": 8,
     "metadata": {},
     "output_type": "execute_result"
    }
   ],
   "source": [
    "df.gender.value_counts()"
   ]
  },
  {
   "cell_type": "markdown",
   "metadata": {},
   "source": [
    "2. Data Analysis"
   ]
  },
  {
   "cell_type": "code",
   "execution_count": 9,
   "metadata": {},
   "outputs": [
    {
     "data": {
      "text/html": [
       "<div>\n",
       "<style scoped>\n",
       "    .dataframe tbody tr th:only-of-type {\n",
       "        vertical-align: middle;\n",
       "    }\n",
       "\n",
       "    .dataframe tbody tr th {\n",
       "        vertical-align: top;\n",
       "    }\n",
       "\n",
       "    .dataframe thead th {\n",
       "        text-align: right;\n",
       "    }\n",
       "</style>\n",
       "<table border=\"1\" class=\"dataframe\">\n",
       "  <thead>\n",
       "    <tr style=\"text-align: right;\">\n",
       "      <th></th>\n",
       "      <th>id</th>\n",
       "      <th>age</th>\n",
       "      <th>hypertension</th>\n",
       "      <th>heart_disease</th>\n",
       "      <th>avg_glucose_level</th>\n",
       "      <th>bmi</th>\n",
       "      <th>stroke</th>\n",
       "    </tr>\n",
       "  </thead>\n",
       "  <tbody>\n",
       "    <tr>\n",
       "      <th>count</th>\n",
       "      <td>5110.000</td>\n",
       "      <td>5110.000</td>\n",
       "      <td>5110.000</td>\n",
       "      <td>5110.000</td>\n",
       "      <td>5110.000</td>\n",
       "      <td>4909.000</td>\n",
       "      <td>5110.000</td>\n",
       "    </tr>\n",
       "    <tr>\n",
       "      <th>mean</th>\n",
       "      <td>36517.829</td>\n",
       "      <td>43.227</td>\n",
       "      <td>0.097</td>\n",
       "      <td>0.054</td>\n",
       "      <td>106.148</td>\n",
       "      <td>28.893</td>\n",
       "      <td>0.049</td>\n",
       "    </tr>\n",
       "    <tr>\n",
       "      <th>std</th>\n",
       "      <td>21161.722</td>\n",
       "      <td>22.613</td>\n",
       "      <td>0.297</td>\n",
       "      <td>0.226</td>\n",
       "      <td>45.284</td>\n",
       "      <td>7.854</td>\n",
       "      <td>0.215</td>\n",
       "    </tr>\n",
       "    <tr>\n",
       "      <th>min</th>\n",
       "      <td>67.000</td>\n",
       "      <td>0.080</td>\n",
       "      <td>0.000</td>\n",
       "      <td>0.000</td>\n",
       "      <td>55.120</td>\n",
       "      <td>10.300</td>\n",
       "      <td>0.000</td>\n",
       "    </tr>\n",
       "    <tr>\n",
       "      <th>25%</th>\n",
       "      <td>17741.250</td>\n",
       "      <td>25.000</td>\n",
       "      <td>0.000</td>\n",
       "      <td>0.000</td>\n",
       "      <td>77.245</td>\n",
       "      <td>23.500</td>\n",
       "      <td>0.000</td>\n",
       "    </tr>\n",
       "    <tr>\n",
       "      <th>50%</th>\n",
       "      <td>36932.000</td>\n",
       "      <td>45.000</td>\n",
       "      <td>0.000</td>\n",
       "      <td>0.000</td>\n",
       "      <td>91.885</td>\n",
       "      <td>28.100</td>\n",
       "      <td>0.000</td>\n",
       "    </tr>\n",
       "    <tr>\n",
       "      <th>75%</th>\n",
       "      <td>54682.000</td>\n",
       "      <td>61.000</td>\n",
       "      <td>0.000</td>\n",
       "      <td>0.000</td>\n",
       "      <td>114.090</td>\n",
       "      <td>33.100</td>\n",
       "      <td>0.000</td>\n",
       "    </tr>\n",
       "    <tr>\n",
       "      <th>max</th>\n",
       "      <td>72940.000</td>\n",
       "      <td>82.000</td>\n",
       "      <td>1.000</td>\n",
       "      <td>1.000</td>\n",
       "      <td>271.740</td>\n",
       "      <td>97.600</td>\n",
       "      <td>1.000</td>\n",
       "    </tr>\n",
       "  </tbody>\n",
       "</table>\n",
       "</div>"
      ],
      "text/plain": [
       "              id       age  hypertension  heart_disease  avg_glucose_level  \\\n",
       "count   5110.000  5110.000      5110.000       5110.000           5110.000   \n",
       "mean   36517.829    43.227         0.097          0.054            106.148   \n",
       "std    21161.722    22.613         0.297          0.226             45.284   \n",
       "min       67.000     0.080         0.000          0.000             55.120   \n",
       "25%    17741.250    25.000         0.000          0.000             77.245   \n",
       "50%    36932.000    45.000         0.000          0.000             91.885   \n",
       "75%    54682.000    61.000         0.000          0.000            114.090   \n",
       "max    72940.000    82.000         1.000          1.000            271.740   \n",
       "\n",
       "            bmi    stroke  \n",
       "count  4909.000  5110.000  \n",
       "mean     28.893     0.049  \n",
       "std       7.854     0.215  \n",
       "min      10.300     0.000  \n",
       "25%      23.500     0.000  \n",
       "50%      28.100     0.000  \n",
       "75%      33.100     0.000  \n",
       "max      97.600     1.000  "
      ]
     },
     "execution_count": 9,
     "metadata": {},
     "output_type": "execute_result"
    }
   ],
   "source": [
    "df.describe().applymap(lambda x: round(x, 3))"
   ]
  },
  {
   "cell_type": "code",
   "execution_count": 10,
   "metadata": {},
   "outputs": [],
   "source": [
    "# plt.figure(figsize = (50,50))\n",
    "# sns.heatmap(round(df.corr(),2), cmap = \"coolwarm\", annot = True, annot_kws = {\"size\":12})"
   ]
  },
  {
   "cell_type": "code",
   "execution_count": 11,
   "metadata": {},
   "outputs": [],
   "source": [
    "# plt.figure(figsize=(15,4))\n",
    "\n",
    "# sns.regplot(x='age', y='stroke', data=df.sample(100, random_state=9), ci=95)"
   ]
  },
  {
   "cell_type": "code",
   "execution_count": 12,
   "metadata": {},
   "outputs": [
    {
     "data": {
      "text/plain": [
       "hypertension      2\n",
       "heart_disease     2\n",
       "ever_married      2\n",
       "Residence_type    2\n",
       "stroke            2\n",
       "dtype: int64"
      ]
     },
     "execution_count": 12,
     "metadata": {},
     "output_type": "execute_result"
    }
   ],
   "source": [
    "df.nunique()[df.nunique() == 2]"
   ]
  },
  {
   "cell_type": "code",
   "execution_count": 13,
   "metadata": {},
   "outputs": [
    {
     "data": {
      "text/plain": [
       "gender                  3\n",
       "age                   104\n",
       "work_type               5\n",
       "avg_glucose_level    3979\n",
       "bmi                   418\n",
       "smoking_status          4\n",
       "dtype: int64"
      ]
     },
     "execution_count": 13,
     "metadata": {},
     "output_type": "execute_result"
    }
   ],
   "source": [
    "df.drop(columns=['id']).nunique()[df.nunique() != 2]"
   ]
  },
  {
   "cell_type": "code",
   "execution_count": 14,
   "metadata": {},
   "outputs": [
    {
     "data": {
      "text/html": [
       "<div>\n",
       "<style scoped>\n",
       "    .dataframe tbody tr th:only-of-type {\n",
       "        vertical-align: middle;\n",
       "    }\n",
       "\n",
       "    .dataframe tbody tr th {\n",
       "        vertical-align: top;\n",
       "    }\n",
       "\n",
       "    .dataframe thead th {\n",
       "        text-align: right;\n",
       "    }\n",
       "</style>\n",
       "<table border=\"1\" class=\"dataframe\">\n",
       "  <thead>\n",
       "    <tr style=\"text-align: right;\">\n",
       "      <th></th>\n",
       "      <th>id</th>\n",
       "      <th>age</th>\n",
       "      <th>hypertension</th>\n",
       "      <th>heart_disease</th>\n",
       "      <th>avg_glucose_level</th>\n",
       "      <th>bmi</th>\n",
       "      <th>stroke</th>\n",
       "    </tr>\n",
       "  </thead>\n",
       "  <tbody>\n",
       "    <tr>\n",
       "      <th>0</th>\n",
       "      <td>9046</td>\n",
       "      <td>67.0</td>\n",
       "      <td>0</td>\n",
       "      <td>1</td>\n",
       "      <td>228.69</td>\n",
       "      <td>36.6</td>\n",
       "      <td>1</td>\n",
       "    </tr>\n",
       "    <tr>\n",
       "      <th>1</th>\n",
       "      <td>51676</td>\n",
       "      <td>61.0</td>\n",
       "      <td>0</td>\n",
       "      <td>0</td>\n",
       "      <td>202.21</td>\n",
       "      <td>NaN</td>\n",
       "      <td>1</td>\n",
       "    </tr>\n",
       "    <tr>\n",
       "      <th>2</th>\n",
       "      <td>31112</td>\n",
       "      <td>80.0</td>\n",
       "      <td>0</td>\n",
       "      <td>1</td>\n",
       "      <td>105.92</td>\n",
       "      <td>32.5</td>\n",
       "      <td>1</td>\n",
       "    </tr>\n",
       "    <tr>\n",
       "      <th>3</th>\n",
       "      <td>60182</td>\n",
       "      <td>49.0</td>\n",
       "      <td>0</td>\n",
       "      <td>0</td>\n",
       "      <td>171.23</td>\n",
       "      <td>34.4</td>\n",
       "      <td>1</td>\n",
       "    </tr>\n",
       "    <tr>\n",
       "      <th>4</th>\n",
       "      <td>1665</td>\n",
       "      <td>79.0</td>\n",
       "      <td>1</td>\n",
       "      <td>0</td>\n",
       "      <td>174.12</td>\n",
       "      <td>24.0</td>\n",
       "      <td>1</td>\n",
       "    </tr>\n",
       "    <tr>\n",
       "      <th>...</th>\n",
       "      <td>...</td>\n",
       "      <td>...</td>\n",
       "      <td>...</td>\n",
       "      <td>...</td>\n",
       "      <td>...</td>\n",
       "      <td>...</td>\n",
       "      <td>...</td>\n",
       "    </tr>\n",
       "    <tr>\n",
       "      <th>5105</th>\n",
       "      <td>18234</td>\n",
       "      <td>80.0</td>\n",
       "      <td>1</td>\n",
       "      <td>0</td>\n",
       "      <td>83.75</td>\n",
       "      <td>NaN</td>\n",
       "      <td>0</td>\n",
       "    </tr>\n",
       "    <tr>\n",
       "      <th>5106</th>\n",
       "      <td>44873</td>\n",
       "      <td>81.0</td>\n",
       "      <td>0</td>\n",
       "      <td>0</td>\n",
       "      <td>125.20</td>\n",
       "      <td>40.0</td>\n",
       "      <td>0</td>\n",
       "    </tr>\n",
       "    <tr>\n",
       "      <th>5107</th>\n",
       "      <td>19723</td>\n",
       "      <td>35.0</td>\n",
       "      <td>0</td>\n",
       "      <td>0</td>\n",
       "      <td>82.99</td>\n",
       "      <td>30.6</td>\n",
       "      <td>0</td>\n",
       "    </tr>\n",
       "    <tr>\n",
       "      <th>5108</th>\n",
       "      <td>37544</td>\n",
       "      <td>51.0</td>\n",
       "      <td>0</td>\n",
       "      <td>0</td>\n",
       "      <td>166.29</td>\n",
       "      <td>25.6</td>\n",
       "      <td>0</td>\n",
       "    </tr>\n",
       "    <tr>\n",
       "      <th>5109</th>\n",
       "      <td>44679</td>\n",
       "      <td>44.0</td>\n",
       "      <td>0</td>\n",
       "      <td>0</td>\n",
       "      <td>85.28</td>\n",
       "      <td>26.2</td>\n",
       "      <td>0</td>\n",
       "    </tr>\n",
       "  </tbody>\n",
       "</table>\n",
       "<p>5110 rows × 7 columns</p>\n",
       "</div>"
      ],
      "text/plain": [
       "         id   age  hypertension  heart_disease  avg_glucose_level   bmi  \\\n",
       "0      9046  67.0             0              1             228.69  36.6   \n",
       "1     51676  61.0             0              0             202.21   NaN   \n",
       "2     31112  80.0             0              1             105.92  32.5   \n",
       "3     60182  49.0             0              0             171.23  34.4   \n",
       "4      1665  79.0             1              0             174.12  24.0   \n",
       "...     ...   ...           ...            ...                ...   ...   \n",
       "5105  18234  80.0             1              0              83.75   NaN   \n",
       "5106  44873  81.0             0              0             125.20  40.0   \n",
       "5107  19723  35.0             0              0              82.99  30.6   \n",
       "5108  37544  51.0             0              0             166.29  25.6   \n",
       "5109  44679  44.0             0              0              85.28  26.2   \n",
       "\n",
       "      stroke  \n",
       "0          1  \n",
       "1          1  \n",
       "2          1  \n",
       "3          1  \n",
       "4          1  \n",
       "...      ...  \n",
       "5105       0  \n",
       "5106       0  \n",
       "5107       0  \n",
       "5108       0  \n",
       "5109       0  \n",
       "\n",
       "[5110 rows x 7 columns]"
      ]
     },
     "execution_count": 14,
     "metadata": {},
     "output_type": "execute_result"
    }
   ],
   "source": [
    "# Display numerics columns\n",
    "df.select_dtypes(include=['int64', 'float64'])"
   ]
  },
  {
   "cell_type": "code",
   "execution_count": 15,
   "metadata": {},
   "outputs": [
    {
     "data": {
      "text/html": [
       "<div>\n",
       "<style scoped>\n",
       "    .dataframe tbody tr th:only-of-type {\n",
       "        vertical-align: middle;\n",
       "    }\n",
       "\n",
       "    .dataframe tbody tr th {\n",
       "        vertical-align: top;\n",
       "    }\n",
       "\n",
       "    .dataframe thead th {\n",
       "        text-align: right;\n",
       "    }\n",
       "</style>\n",
       "<table border=\"1\" class=\"dataframe\">\n",
       "  <thead>\n",
       "    <tr style=\"text-align: right;\">\n",
       "      <th></th>\n",
       "      <th>gender</th>\n",
       "      <th>ever_married</th>\n",
       "      <th>work_type</th>\n",
       "      <th>Residence_type</th>\n",
       "      <th>smoking_status</th>\n",
       "    </tr>\n",
       "  </thead>\n",
       "  <tbody>\n",
       "    <tr>\n",
       "      <th>0</th>\n",
       "      <td>Male</td>\n",
       "      <td>Yes</td>\n",
       "      <td>Private</td>\n",
       "      <td>Urban</td>\n",
       "      <td>formerly smoked</td>\n",
       "    </tr>\n",
       "    <tr>\n",
       "      <th>1</th>\n",
       "      <td>Female</td>\n",
       "      <td>Yes</td>\n",
       "      <td>Self-employed</td>\n",
       "      <td>Rural</td>\n",
       "      <td>never smoked</td>\n",
       "    </tr>\n",
       "    <tr>\n",
       "      <th>2</th>\n",
       "      <td>Male</td>\n",
       "      <td>Yes</td>\n",
       "      <td>Private</td>\n",
       "      <td>Rural</td>\n",
       "      <td>never smoked</td>\n",
       "    </tr>\n",
       "    <tr>\n",
       "      <th>3</th>\n",
       "      <td>Female</td>\n",
       "      <td>Yes</td>\n",
       "      <td>Private</td>\n",
       "      <td>Urban</td>\n",
       "      <td>smokes</td>\n",
       "    </tr>\n",
       "    <tr>\n",
       "      <th>4</th>\n",
       "      <td>Female</td>\n",
       "      <td>Yes</td>\n",
       "      <td>Self-employed</td>\n",
       "      <td>Rural</td>\n",
       "      <td>never smoked</td>\n",
       "    </tr>\n",
       "    <tr>\n",
       "      <th>...</th>\n",
       "      <td>...</td>\n",
       "      <td>...</td>\n",
       "      <td>...</td>\n",
       "      <td>...</td>\n",
       "      <td>...</td>\n",
       "    </tr>\n",
       "    <tr>\n",
       "      <th>5105</th>\n",
       "      <td>Female</td>\n",
       "      <td>Yes</td>\n",
       "      <td>Private</td>\n",
       "      <td>Urban</td>\n",
       "      <td>never smoked</td>\n",
       "    </tr>\n",
       "    <tr>\n",
       "      <th>5106</th>\n",
       "      <td>Female</td>\n",
       "      <td>Yes</td>\n",
       "      <td>Self-employed</td>\n",
       "      <td>Urban</td>\n",
       "      <td>never smoked</td>\n",
       "    </tr>\n",
       "    <tr>\n",
       "      <th>5107</th>\n",
       "      <td>Female</td>\n",
       "      <td>Yes</td>\n",
       "      <td>Self-employed</td>\n",
       "      <td>Rural</td>\n",
       "      <td>never smoked</td>\n",
       "    </tr>\n",
       "    <tr>\n",
       "      <th>5108</th>\n",
       "      <td>Male</td>\n",
       "      <td>Yes</td>\n",
       "      <td>Private</td>\n",
       "      <td>Rural</td>\n",
       "      <td>formerly smoked</td>\n",
       "    </tr>\n",
       "    <tr>\n",
       "      <th>5109</th>\n",
       "      <td>Female</td>\n",
       "      <td>Yes</td>\n",
       "      <td>Govt_job</td>\n",
       "      <td>Urban</td>\n",
       "      <td>Unknown</td>\n",
       "    </tr>\n",
       "  </tbody>\n",
       "</table>\n",
       "<p>5110 rows × 5 columns</p>\n",
       "</div>"
      ],
      "text/plain": [
       "      gender ever_married      work_type Residence_type   smoking_status\n",
       "0       Male          Yes        Private          Urban  formerly smoked\n",
       "1     Female          Yes  Self-employed          Rural     never smoked\n",
       "2       Male          Yes        Private          Rural     never smoked\n",
       "3     Female          Yes        Private          Urban           smokes\n",
       "4     Female          Yes  Self-employed          Rural     never smoked\n",
       "...      ...          ...            ...            ...              ...\n",
       "5105  Female          Yes        Private          Urban     never smoked\n",
       "5106  Female          Yes  Self-employed          Urban     never smoked\n",
       "5107  Female          Yes  Self-employed          Rural     never smoked\n",
       "5108    Male          Yes        Private          Rural  formerly smoked\n",
       "5109  Female          Yes       Govt_job          Urban          Unknown\n",
       "\n",
       "[5110 rows x 5 columns]"
      ]
     },
     "execution_count": 15,
     "metadata": {},
     "output_type": "execute_result"
    }
   ],
   "source": [
    "# Display Objects columns\n",
    "df.select_dtypes(include=['O'])"
   ]
  },
  {
   "cell_type": "code",
   "execution_count": null,
   "metadata": {},
   "outputs": [],
   "source": []
  },
  {
   "cell_type": "code",
   "execution_count": 16,
   "metadata": {},
   "outputs": [],
   "source": [
    "# curves_step = [1, 200, 300, 400, 500, 600, 650, 712]\n",
    "# train_sizes, train_scores, test_scores = learning_curve(\n",
    "#     estimator=LogisticRegression(), X=X, y=y, train_sizes=curves_step, cv=5)\n",
    "# train_scores_mean = np.mean(train_scores, axis=1)\n",
    "# test_scores_mean = np.mean(test_scores, axis=1)\n",
    "# plt.plot(train_sizes, train_scores_mean, label = 'Training score')\n",
    "# plt.plot(train_sizes, test_scores_mean, label = 'Test score')\n",
    "# plt.ylabel('r2 score', fontsize = 14)\n",
    "# plt.xlabel('Training set size', fontsize = 14)\n",
    "# plt.title('Learning curves', fontsize = 18, y = 1.03)\n",
    "# plt.legend()"
   ]
  },
  {
   "cell_type": "code",
   "execution_count": 17,
   "metadata": {},
   "outputs": [
    {
     "data": {
      "text/plain": [
       "bmi                  3.933464\n",
       "id                   0.000000\n",
       "gender               0.000000\n",
       "age                  0.000000\n",
       "hypertension         0.000000\n",
       "heart_disease        0.000000\n",
       "ever_married         0.000000\n",
       "work_type            0.000000\n",
       "Residence_type       0.000000\n",
       "avg_glucose_level    0.000000\n",
       "smoking_status       0.000000\n",
       "stroke               0.000000\n",
       "dtype: float64"
      ]
     },
     "execution_count": 17,
     "metadata": {},
     "output_type": "execute_result"
    }
   ],
   "source": [
    "# df.shape\n",
    "# df.isna()\n",
    "percent_missing = df.isnull().sum() * 100 / len(df)\n",
    "missing_value_df = pd.DataFrame({'column_name': df.columns,\n",
    "                                 'percent_missing': percent_missing})\n",
    "missing_value_df.sort_values('percent_missing', inplace=True)\n",
    "percent_missing = df.isnull().sum() * 100 / len(df)\n",
    "percent_missing.sort_values(ascending=False).head(15)\n"
   ]
  },
  {
   "cell_type": "code",
   "execution_count": 18,
   "metadata": {},
   "outputs": [
    {
     "data": {
      "text/plain": [
       "0.08"
      ]
     },
     "execution_count": 18,
     "metadata": {},
     "output_type": "execute_result"
    }
   ],
   "source": [
    "# df.gender.value_counts()\n",
    "df.age.min()\n"
   ]
  },
  {
   "cell_type": "code",
   "execution_count": 19,
   "metadata": {},
   "outputs": [
    {
     "data": {
      "text/plain": [
       "5110"
      ]
     },
     "execution_count": 19,
     "metadata": {},
     "output_type": "execute_result"
    }
   ],
   "source": [
    "df.age.count()"
   ]
  },
  {
   "cell_type": "markdown",
   "metadata": {},
   "source": [
    "En outlier sur la colonne age on à un avc recensé à 2 ans et un autre à 16 ans "
   ]
  },
  {
   "cell_type": "code",
   "execution_count": 20,
   "metadata": {},
   "outputs": [
    {
     "data": {
      "text/plain": [
       "stroke\n",
       "0    1513\n",
       "1       2\n",
       "Name: count, dtype: int64"
      ]
     },
     "execution_count": 20,
     "metadata": {},
     "output_type": "execute_result"
    }
   ],
   "source": [
    "df[df.age<30].stroke.value_counts()"
   ]
  },
  {
   "cell_type": "code",
   "execution_count": 21,
   "metadata": {},
   "outputs": [
    {
     "data": {
      "text/plain": [
       "stroke\n",
       "0    2094\n",
       "1       5\n",
       "Name: count, dtype: int64"
      ]
     },
     "execution_count": 21,
     "metadata": {},
     "output_type": "execute_result"
    }
   ],
   "source": [
    "df[df.age<39].stroke.value_counts()"
   ]
  },
  {
   "cell_type": "code",
   "execution_count": 22,
   "metadata": {},
   "outputs": [],
   "source": [
    "# sns.histplot(x=df.stroke, y=df.age) with stroke in hue\n",
    "# sns.histplot(df.age.value_counts, df.age.value_counts.index)"
   ]
  },
  {
   "cell_type": "code",
   "execution_count": 23,
   "metadata": {},
   "outputs": [
    {
     "data": {
      "text/plain": [
       "55.12"
      ]
     },
     "execution_count": 23,
     "metadata": {},
     "output_type": "execute_result"
    }
   ],
   "source": [
    "df.avg_glucose_level.min()\n"
   ]
  },
  {
   "cell_type": "code",
   "execution_count": 24,
   "metadata": {},
   "outputs": [
    {
     "data": {
      "text/plain": [
       "271.74"
      ]
     },
     "execution_count": 24,
     "metadata": {},
     "output_type": "execute_result"
    }
   ],
   "source": [
    "df.avg_glucose_level.max()"
   ]
  },
  {
   "cell_type": "code",
   "execution_count": 25,
   "metadata": {},
   "outputs": [
    {
     "data": {
      "text/plain": [
       "bmi\n",
       "False    4909\n",
       "True      201\n",
       "Name: count, dtype: int64"
      ]
     },
     "execution_count": 25,
     "metadata": {},
     "output_type": "execute_result"
    }
   ],
   "source": [
    "df.bmi.isna().value_counts()"
   ]
  },
  {
   "cell_type": "code",
   "execution_count": null,
   "metadata": {},
   "outputs": [],
   "source": []
  },
  {
   "cell_type": "code",
   "execution_count": 26,
   "metadata": {},
   "outputs": [
    {
     "data": {
      "text/plain": [
       "smoking_status\n",
       "never smoked       1892\n",
       "Unknown            1544\n",
       "formerly smoked     885\n",
       "smokes              789\n",
       "Name: count, dtype: int64"
      ]
     },
     "execution_count": 26,
     "metadata": {},
     "output_type": "execute_result"
    }
   ],
   "source": [
    "df.smoking_status.value_counts()"
   ]
  },
  {
   "cell_type": "code",
   "execution_count": 27,
   "metadata": {},
   "outputs": [
    {
     "data": {
      "text/plain": [
       "stroke\n",
       "0    4861\n",
       "1     249\n",
       "Name: count, dtype: int64"
      ]
     },
     "execution_count": 27,
     "metadata": {},
     "output_type": "execute_result"
    }
   ],
   "source": [
    "df.stroke.value_counts()"
   ]
  },
  {
   "cell_type": "code",
   "execution_count": 28,
   "metadata": {},
   "outputs": [
    {
     "data": {
      "text/plain": [
       "0             Private\n",
       "1       Self-employed\n",
       "2             Private\n",
       "3             Private\n",
       "4       Self-employed\n",
       "            ...      \n",
       "5105          Private\n",
       "5106    Self-employed\n",
       "5107    Self-employed\n",
       "5108          Private\n",
       "5109         Govt_job\n",
       "Name: work_type, Length: 5110, dtype: object"
      ]
     },
     "execution_count": 28,
     "metadata": {},
     "output_type": "execute_result"
    }
   ],
   "source": [
    "df.work_type"
   ]
  },
  {
   "cell_type": "code",
   "execution_count": null,
   "metadata": {},
   "outputs": [],
   "source": []
  },
  {
   "cell_type": "markdown",
   "metadata": {},
   "source": [
    "3. Feature Engineering"
   ]
  },
  {
   "cell_type": "code",
   "execution_count": 29,
   "metadata": {},
   "outputs": [],
   "source": [
    "clean_df = df[df.gender != 'Other']\n",
    "# on va en discuter tkt\n",
    "clean_df = clean_df[clean_df.age>30]"
   ]
  },
  {
   "cell_type": "code",
   "execution_count": 30,
   "metadata": {},
   "outputs": [
    {
     "data": {
      "text/plain": [
       "gender\n",
       "Female    2994\n",
       "Male      2115\n",
       "Other        1\n",
       "Name: count, dtype: int64"
      ]
     },
     "execution_count": 30,
     "metadata": {},
     "output_type": "execute_result"
    }
   ],
   "source": [
    "df.gender.value_counts()"
   ]
  },
  {
   "cell_type": "code",
   "execution_count": 31,
   "metadata": {},
   "outputs": [],
   "source": [
    "df.ever_married = df.ever_married.apply(lambda x : 1 if x == \"Yes\" else 0)\n"
   ]
  },
  {
   "cell_type": "code",
   "execution_count": 32,
   "metadata": {},
   "outputs": [
    {
     "data": {
      "text/plain": [
       "Residence_type\n",
       "1    2596\n",
       "0    2514\n",
       "Name: count, dtype: int64"
      ]
     },
     "execution_count": 32,
     "metadata": {},
     "output_type": "execute_result"
    }
   ],
   "source": [
    "df.Residence_type.value_counts()\n",
    "df.Residence_type = df.Residence_type.apply(lambda x : 1 if x == \"Urban\" else 0)\n",
    "df.Residence_type.value_counts()\n"
   ]
  },
  {
   "cell_type": "code",
   "execution_count": null,
   "metadata": {},
   "outputs": [],
   "source": []
  },
  {
   "cell_type": "code",
   "execution_count": 33,
   "metadata": {},
   "outputs": [
    {
     "data": {
      "text/html": [
       "<div>\n",
       "<style scoped>\n",
       "    .dataframe tbody tr th:only-of-type {\n",
       "        vertical-align: middle;\n",
       "    }\n",
       "\n",
       "    .dataframe tbody tr th {\n",
       "        vertical-align: top;\n",
       "    }\n",
       "\n",
       "    .dataframe thead th {\n",
       "        text-align: right;\n",
       "    }\n",
       "</style>\n",
       "<table border=\"1\" class=\"dataframe\">\n",
       "  <thead>\n",
       "    <tr style=\"text-align: right;\">\n",
       "      <th></th>\n",
       "      <th>id</th>\n",
       "      <th>gender</th>\n",
       "      <th>age</th>\n",
       "      <th>hypertension</th>\n",
       "      <th>heart_disease</th>\n",
       "      <th>ever_married</th>\n",
       "      <th>work_type</th>\n",
       "      <th>Residence_type</th>\n",
       "      <th>avg_glucose_level</th>\n",
       "      <th>bmi</th>\n",
       "      <th>smoking_status</th>\n",
       "      <th>stroke</th>\n",
       "    </tr>\n",
       "  </thead>\n",
       "  <tbody>\n",
       "    <tr>\n",
       "      <th>0</th>\n",
       "      <td>9046</td>\n",
       "      <td>Male</td>\n",
       "      <td>67.0</td>\n",
       "      <td>0</td>\n",
       "      <td>1</td>\n",
       "      <td>1</td>\n",
       "      <td>Private</td>\n",
       "      <td>1</td>\n",
       "      <td>228.69</td>\n",
       "      <td>36.6</td>\n",
       "      <td>formerly smoked</td>\n",
       "      <td>1</td>\n",
       "    </tr>\n",
       "    <tr>\n",
       "      <th>1</th>\n",
       "      <td>51676</td>\n",
       "      <td>Female</td>\n",
       "      <td>61.0</td>\n",
       "      <td>0</td>\n",
       "      <td>0</td>\n",
       "      <td>1</td>\n",
       "      <td>Self-employed</td>\n",
       "      <td>0</td>\n",
       "      <td>202.21</td>\n",
       "      <td>NaN</td>\n",
       "      <td>never smoked</td>\n",
       "      <td>1</td>\n",
       "    </tr>\n",
       "    <tr>\n",
       "      <th>2</th>\n",
       "      <td>31112</td>\n",
       "      <td>Male</td>\n",
       "      <td>80.0</td>\n",
       "      <td>0</td>\n",
       "      <td>1</td>\n",
       "      <td>1</td>\n",
       "      <td>Private</td>\n",
       "      <td>0</td>\n",
       "      <td>105.92</td>\n",
       "      <td>32.5</td>\n",
       "      <td>never smoked</td>\n",
       "      <td>1</td>\n",
       "    </tr>\n",
       "    <tr>\n",
       "      <th>3</th>\n",
       "      <td>60182</td>\n",
       "      <td>Female</td>\n",
       "      <td>49.0</td>\n",
       "      <td>0</td>\n",
       "      <td>0</td>\n",
       "      <td>1</td>\n",
       "      <td>Private</td>\n",
       "      <td>1</td>\n",
       "      <td>171.23</td>\n",
       "      <td>34.4</td>\n",
       "      <td>smokes</td>\n",
       "      <td>1</td>\n",
       "    </tr>\n",
       "    <tr>\n",
       "      <th>4</th>\n",
       "      <td>1665</td>\n",
       "      <td>Female</td>\n",
       "      <td>79.0</td>\n",
       "      <td>1</td>\n",
       "      <td>0</td>\n",
       "      <td>1</td>\n",
       "      <td>Self-employed</td>\n",
       "      <td>0</td>\n",
       "      <td>174.12</td>\n",
       "      <td>24.0</td>\n",
       "      <td>never smoked</td>\n",
       "      <td>1</td>\n",
       "    </tr>\n",
       "    <tr>\n",
       "      <th>...</th>\n",
       "      <td>...</td>\n",
       "      <td>...</td>\n",
       "      <td>...</td>\n",
       "      <td>...</td>\n",
       "      <td>...</td>\n",
       "      <td>...</td>\n",
       "      <td>...</td>\n",
       "      <td>...</td>\n",
       "      <td>...</td>\n",
       "      <td>...</td>\n",
       "      <td>...</td>\n",
       "      <td>...</td>\n",
       "    </tr>\n",
       "    <tr>\n",
       "      <th>5105</th>\n",
       "      <td>18234</td>\n",
       "      <td>Female</td>\n",
       "      <td>80.0</td>\n",
       "      <td>1</td>\n",
       "      <td>0</td>\n",
       "      <td>1</td>\n",
       "      <td>Private</td>\n",
       "      <td>1</td>\n",
       "      <td>83.75</td>\n",
       "      <td>NaN</td>\n",
       "      <td>never smoked</td>\n",
       "      <td>0</td>\n",
       "    </tr>\n",
       "    <tr>\n",
       "      <th>5106</th>\n",
       "      <td>44873</td>\n",
       "      <td>Female</td>\n",
       "      <td>81.0</td>\n",
       "      <td>0</td>\n",
       "      <td>0</td>\n",
       "      <td>1</td>\n",
       "      <td>Self-employed</td>\n",
       "      <td>1</td>\n",
       "      <td>125.20</td>\n",
       "      <td>40.0</td>\n",
       "      <td>never smoked</td>\n",
       "      <td>0</td>\n",
       "    </tr>\n",
       "    <tr>\n",
       "      <th>5107</th>\n",
       "      <td>19723</td>\n",
       "      <td>Female</td>\n",
       "      <td>35.0</td>\n",
       "      <td>0</td>\n",
       "      <td>0</td>\n",
       "      <td>1</td>\n",
       "      <td>Self-employed</td>\n",
       "      <td>0</td>\n",
       "      <td>82.99</td>\n",
       "      <td>30.6</td>\n",
       "      <td>never smoked</td>\n",
       "      <td>0</td>\n",
       "    </tr>\n",
       "    <tr>\n",
       "      <th>5108</th>\n",
       "      <td>37544</td>\n",
       "      <td>Male</td>\n",
       "      <td>51.0</td>\n",
       "      <td>0</td>\n",
       "      <td>0</td>\n",
       "      <td>1</td>\n",
       "      <td>Private</td>\n",
       "      <td>0</td>\n",
       "      <td>166.29</td>\n",
       "      <td>25.6</td>\n",
       "      <td>formerly smoked</td>\n",
       "      <td>0</td>\n",
       "    </tr>\n",
       "    <tr>\n",
       "      <th>5109</th>\n",
       "      <td>44679</td>\n",
       "      <td>Female</td>\n",
       "      <td>44.0</td>\n",
       "      <td>0</td>\n",
       "      <td>0</td>\n",
       "      <td>1</td>\n",
       "      <td>Govt_job</td>\n",
       "      <td>1</td>\n",
       "      <td>85.28</td>\n",
       "      <td>26.2</td>\n",
       "      <td>Unknown</td>\n",
       "      <td>0</td>\n",
       "    </tr>\n",
       "  </tbody>\n",
       "</table>\n",
       "<p>5110 rows × 12 columns</p>\n",
       "</div>"
      ],
      "text/plain": [
       "         id  gender   age  hypertension  heart_disease  ever_married  \\\n",
       "0      9046    Male  67.0             0              1             1   \n",
       "1     51676  Female  61.0             0              0             1   \n",
       "2     31112    Male  80.0             0              1             1   \n",
       "3     60182  Female  49.0             0              0             1   \n",
       "4      1665  Female  79.0             1              0             1   \n",
       "...     ...     ...   ...           ...            ...           ...   \n",
       "5105  18234  Female  80.0             1              0             1   \n",
       "5106  44873  Female  81.0             0              0             1   \n",
       "5107  19723  Female  35.0             0              0             1   \n",
       "5108  37544    Male  51.0             0              0             1   \n",
       "5109  44679  Female  44.0             0              0             1   \n",
       "\n",
       "          work_type  Residence_type  avg_glucose_level   bmi   smoking_status  \\\n",
       "0           Private               1             228.69  36.6  formerly smoked   \n",
       "1     Self-employed               0             202.21   NaN     never smoked   \n",
       "2           Private               0             105.92  32.5     never smoked   \n",
       "3           Private               1             171.23  34.4           smokes   \n",
       "4     Self-employed               0             174.12  24.0     never smoked   \n",
       "...             ...             ...                ...   ...              ...   \n",
       "5105        Private               1              83.75   NaN     never smoked   \n",
       "5106  Self-employed               1             125.20  40.0     never smoked   \n",
       "5107  Self-employed               0              82.99  30.6     never smoked   \n",
       "5108        Private               0             166.29  25.6  formerly smoked   \n",
       "5109       Govt_job               1              85.28  26.2          Unknown   \n",
       "\n",
       "      stroke  \n",
       "0          1  \n",
       "1          1  \n",
       "2          1  \n",
       "3          1  \n",
       "4          1  \n",
       "...      ...  \n",
       "5105       0  \n",
       "5106       0  \n",
       "5107       0  \n",
       "5108       0  \n",
       "5109       0  \n",
       "\n",
       "[5110 rows x 12 columns]"
      ]
     },
     "execution_count": 33,
     "metadata": {},
     "output_type": "execute_result"
    }
   ],
   "source": [
    "df"
   ]
  },
  {
   "cell_type": "code",
   "execution_count": 57,
   "metadata": {},
   "outputs": [
    {
     "data": {
      "text/plain": [
       "array([2, 3, 2, ..., 3, 2, 0])"
      ]
     },
     "execution_count": 57,
     "metadata": {},
     "output_type": "execute_result"
    }
   ],
   "source": [
    "from sklearn.preprocessing import LabelEncoder\n",
    "label_encoder = LabelEncoder()\n",
    "label_encoder.fit_transform(df.work_type)\n"
   ]
  },
  {
   "cell_type": "code",
   "execution_count": 59,
   "metadata": {},
   "outputs": [
    {
     "data": {
      "text/plain": [
       "array([[0., 0., 1., 0., 0.],\n",
       "       [0., 0., 0., 1., 0.],\n",
       "       [0., 0., 1., 0., 0.],\n",
       "       ...,\n",
       "       [0., 0., 0., 1., 0.],\n",
       "       [0., 0., 1., 0., 0.],\n",
       "       [1., 0., 0., 0., 0.]])"
      ]
     },
     "execution_count": 59,
     "metadata": {},
     "output_type": "execute_result"
    }
   ],
   "source": [
    "from sklearn.preprocessing import OneHotEncoder\n",
    "\n",
    "categorical_column_reshaped = df.work_type.values.reshape(-1, 1)\n",
    "\n",
    "OneHotEncoder(sparse_output=False).fit_transform(categorical_column_reshaped)"
   ]
  },
  {
   "cell_type": "code",
   "execution_count": 36,
   "metadata": {},
   "outputs": [
    {
     "data": {
      "text/plain": [
       "0           Private\n",
       "1     Self-employed\n",
       "2           Private\n",
       "3           Private\n",
       "4     Self-employed\n",
       "5           Private\n",
       "6           Private\n",
       "7           Private\n",
       "8           Private\n",
       "9           Private\n",
       "10          Private\n",
       "11         Govt_job\n",
       "12          Private\n",
       "13          Private\n",
       "14          Private\n",
       "15    Self-employed\n",
       "16          Private\n",
       "17          Private\n",
       "18          Private\n",
       "19         Govt_job\n",
       "Name: work_type, dtype: object"
      ]
     },
     "execution_count": 36,
     "metadata": {},
     "output_type": "execute_result"
    }
   ],
   "source": [
    "df.work_type[0:20]"
   ]
  },
  {
   "cell_type": "code",
   "execution_count": 37,
   "metadata": {},
   "outputs": [
    {
     "data": {
      "text/plain": [
       "array([[0., 0., 1., 0., 0.],\n",
       "       [0., 0., 0., 1., 0.],\n",
       "       [0., 0., 1., 0., 0.],\n",
       "       [0., 0., 1., 0., 0.],\n",
       "       [0., 0., 0., 1., 0.],\n",
       "       [0., 0., 1., 0., 0.],\n",
       "       [0., 0., 1., 0., 0.],\n",
       "       [0., 0., 1., 0., 0.],\n",
       "       [0., 0., 1., 0., 0.],\n",
       "       [0., 0., 1., 0., 0.],\n",
       "       [0., 0., 1., 0., 0.],\n",
       "       [1., 0., 0., 0., 0.],\n",
       "       [0., 0., 1., 0., 0.],\n",
       "       [0., 0., 1., 0., 0.],\n",
       "       [0., 0., 1., 0., 0.],\n",
       "       [0., 0., 0., 1., 0.],\n",
       "       [0., 0., 1., 0., 0.],\n",
       "       [0., 0., 1., 0., 0.],\n",
       "       [0., 0., 1., 0., 0.],\n",
       "       [1., 0., 0., 0., 0.]])"
      ]
     },
     "execution_count": 37,
     "metadata": {},
     "output_type": "execute_result"
    }
   ],
   "source": [
    "encoded_columns[0:20]"
   ]
  },
  {
   "cell_type": "code",
   "execution_count": 38,
   "metadata": {},
   "outputs": [
    {
     "data": {
      "text/plain": [
       "work_type\n",
       "Private          2925\n",
       "Self-employed     819\n",
       "children          687\n",
       "Govt_job          657\n",
       "Never_worked       22\n",
       "Name: count, dtype: int64"
      ]
     },
     "execution_count": 38,
     "metadata": {},
     "output_type": "execute_result"
    }
   ],
   "source": [
    "df.work_type.value_counts()"
   ]
  },
  {
   "cell_type": "code",
   "execution_count": 39,
   "metadata": {},
   "outputs": [],
   "source": [
    "\n",
    "# CentralAir_encoder = OneHotEncoder(sparse=False, drop='if_binary', categories=[['Private', 'Self-employed', 'children', 'Govt_job', 'Never_worked' ]]) # Instanciate encoder\n",
    "# df['CentralAir'] = CentralAir_encoder.fit_transform(df.work_type) # Fit encoder and tranform"
   ]
  },
  {
   "cell_type": "markdown",
   "metadata": {},
   "source": [
    "4. Machine Learning\n"
   ]
  },
  {
   "cell_type": "code",
   "execution_count": 40,
   "metadata": {},
   "outputs": [],
   "source": [
    "df_x = df.drop(columns =\"stroke\")\n",
    "df_y = df['stroke']\n",
    "# model = LogisticRegression()\n",
    "# model.fit(df_x, df_y)\n",
    "# accuracy = model.score(df_x,df_y)"
   ]
  },
  {
   "cell_type": "code",
   "execution_count": 41,
   "metadata": {},
   "outputs": [],
   "source": [
    "df = pd.read_csv(\"healthcare-dataset-stroke-data.csv\")\n",
    "clean_df = df.copy()\n",
    "\n",
    "if \"Other\" in clean_df.gender.value_counts():\n",
    "    clean_df = df[df.gender != 'Other']\n",
    "    # on va en discuter tkt\n",
    "    clean_df = clean_df[clean_df.age>30]\n",
    "\n",
    "    clean_df.ever_married = clean_df.ever_married.apply(lambda x : 1 if x == \"Yes\" else 0)\n",
    "    clean_df.Residence_type = clean_df.Residence_type.apply(lambda x : 1 if x == \"Urban\" else 0)\n",
    "    clean_df.gender = clean_df.gender.apply(lambda x : 1 if x == \"Female\" else 0)\n",
    "\n",
    "    # from Sacia\n",
    "    clean_df = clean_df[clean_df.bmi <= 60]\n",
    "\n",
    "    # A CHANGER ABSOLUMENT\n",
    "    clean_df = clean_df.dropna(axis=0, subset='bmi')\n"
   ]
  },
  {
   "cell_type": "code",
   "execution_count": 42,
   "metadata": {},
   "outputs": [
    {
     "data": {
      "text/plain": [
       "<Axes: >"
      ]
     },
     "execution_count": 42,
     "metadata": {},
     "output_type": "execute_result"
    },
    {
     "data": {
      "image/png": "[encoded data removed]",
      "text/plain": [
       "<Figure size 2000x2000 with 2 Axes>"
      ]
     },
     "metadata": {},
     "output_type": "display_data"
    }
   ],
   "source": [
    "corr_map_df = clean_df\n",
    "corr_map_df.work_type = corr_map_df['work_type'].astype('category')\n",
    "corr_map_df.work_type = corr_map_df['work_type'].cat.codes\n",
    "\n",
    "corr_map_df.smoking_status = corr_map_df['smoking_status'].astype('category')\n",
    "corr_map_df.smoking_status = corr_map_df['smoking_status'].cat.codes\n",
    "\n",
    "plt.figure(figsize = (20,20))\n",
    "sns.heatmap(round(corr_map_df.corr(),2), cmap = \"terrain\", annot = True, annot_kws = {\"size\":14})\n",
    "# hsv terrain jet rainbow tab10 Pastel1 Set3 RdBu viridis inferno plasma cividis magma"
   ]
  },
  {
   "cell_type": "markdown",
   "metadata": {},
   "source": [
    "without class balance"
   ]
  },
  {
   "cell_type": "code",
   "execution_count": 43,
   "metadata": {},
   "outputs": [
    {
     "name": "stdout",
     "output_type": "stream",
     "text": [
      "# Used features count : 10\n",
      "# Mean Recall: 0.71082\n",
      "# Mean r2 Test_Score: 0.70177\n",
      "# Average prediction error: ~0.5460 (RMSE)\n",
      "min/max recall result[0.5087719298245614, 0.8709677419354839]\n"
     ]
    }
   ],
   "source": [
    "\n",
    "\n",
    "\n",
    "# %%writefile my_python_file.py\n",
    "# All Columns to preprocess\n",
    "to_classify = ['work_type', 'smoking_status' ]\n",
    "to_robust = ['age', 'avg_glucose_level', 'bmi']\n",
    "# to_min_max = []\n",
    "already_processed = ['gender', 'hypertension', 'heart_disease', 'ever_married', 'Residence_type']\n",
    "# Bench : 'MiscFeature'\n",
    "select_features = to_classify + to_robust + already_processed # + to_min_max\n",
    "\n",
    "\n",
    "X = clean_df[select_features]\n",
    "y = clean_df['stroke']  # Target\n",
    "\n",
    "r2list = []\n",
    "rmse_list = []\n",
    "recall_list = []\n",
    "\n",
    "# allow more accurate model's performance estimation with more training reps and\n",
    "# different data splits on a small amount of data, needs to be 1 for prediction tasks.\n",
    "for i in range(500):\n",
    "    X_train, X_test, y_train, y_test = train_test_split(X, y, test_size=0.3, \\\n",
    "        random_state=np.random.randint(1, 20001))\n",
    "\n",
    "    # Building Pipeline\n",
    "    preprocessor = ColumnTransformer([\n",
    "        ('onehot', OneHotEncoder(), to_classify),\n",
    "        ('robust_scaler', RobustScaler(), to_robust), # RobustScaler/StandardScaler\n",
    "        # ('minmax', MinMaxScaler(), to_min_max),\n",
    "    ], remainder='passthrough')  # passthrough/drop\n",
    "\n",
    "    pipeline = Pipeline([\n",
    "        ('preprocessor', preprocessor),\n",
    "        ('regressor', LogisticRegression(penalty='l2', class_weight='balanced'))  # Linear Regression model\n",
    "    ])\n",
    "    pipeline.fit(X_train, y_train)\n",
    "\n",
    "    # R^2 Score, not RMSE\n",
    "    # train_score = pipeline.score(X_train, y_train)\n",
    "    # test_score = pipeline.score(X_test, y_test)\n",
    "    r2list.append(pipeline.score(X_test, y_test))\n",
    "    # print(f\"Training_Score: {train_score:.5f}\")\n",
    "\n",
    "    predicted_strokes = pipeline.predict(X_test)\n",
    "    rmse_list.append(np.sqrt(mean_squared_error(y_test, predicted_strokes)))\n",
    "    recall_list.append(recall_score(y_test, predicted_strokes))\n",
    "\n",
    "print(f\"# Used features count : {len(select_features)}\") #/len(df.columns)\n",
    "print(f\"# Mean Recall: {np.mean(recall_list):.5f}\")\n",
    "print(f\"# Mean r2 Test_Score: {np.mean(r2list):.5f}\")\n",
    "# Display RMSE\n",
    "print(f\"# Average prediction error: ~{np.mean(rmse_list):.4f} (RMSE)\")\n",
    "\n",
    "\n",
    "print(f\"min/max recall result{[min(recall_list), max(recall_list)]}\")"
   ]
  },
  {
   "cell_type": "markdown",
   "metadata": {},
   "source": [
    "with undersampling"
   ]
  },
  {
   "cell_type": "code",
   "execution_count": 44,
   "metadata": {},
   "outputs": [],
   "source": [
    "\n",
    "class_0_df = clean_df[clean_df['stroke'] == 0]\n",
    "class_1_df = clean_df[clean_df['stroke'] == 1]\n",
    "\n",
    "undersampled_class_0_data = class_0_df.sample(n=len(class_1_df), random_state=42)\n",
    "clean_df = pd.concat([undersampled_class_0_data, class_1_df])\n",
    "clean_df = clean_df.sample(frac=1, random_state=42)\n",
    "\n",
    "# Now, 'undersampled_data' contains an undersampled version of your original dataset\n"
   ]
  },
  {
   "cell_type": "code",
   "execution_count": 56,
   "metadata": {},
   "outputs": [
    {
     "name": "stdout",
     "output_type": "stream",
     "text": [
      "# Used features count : 10\n",
      "# Mean Recall: 0.00546\n",
      "# Mean r2 Test_Score: 0.93861\n",
      "# Average prediction error: ~0.2474 (RMSE)\n",
      "min/max recall result[0.0, 0.05555555555555555]\n"
     ]
    }
   ],
   "source": [
    "\n",
    "\n",
    "\n",
    "# %%writefile my_python_file.py\n",
    "# All Columns to preprocess\n",
    "to_classify = ['work_type', 'smoking_status' ]\n",
    "to_robust = ['age', 'avg_glucose_level', 'bmi']\n",
    "# to_min_max = []\n",
    "already_processed = ['gender', 'hypertension', 'heart_disease', 'ever_married', 'Residence_type']\n",
    "# Bench : 'MiscFeature'\n",
    "select_features = to_classify + to_robust + already_processed # + to_min_max\n",
    "\n",
    "\n",
    "X = clean_df[select_features]\n",
    "y = clean_df['stroke']  # Target\n",
    "\n",
    "r2list = []\n",
    "rmse_list = []\n",
    "recall_list = []\n",
    "\n",
    "# allow more accurate model's performance estimation with more training reps and\n",
    "# different data splits on a small amount of data, needs to be 1 for prediction tasks.\n",
    "for i in range(500):\n",
    "    X_train, X_test, y_train, y_test = train_test_split(X, y, test_size=0.3, \\\n",
    "        random_state=np.random.randint(1, 20001))\n",
    "\n",
    "    # Building Pipeline\n",
    "    preprocessor = ColumnTransformer([\n",
    "        ('onehot', OneHotEncoder(), to_classify),\n",
    "        ('robust_scaler', RobustScaler(), to_robust), # RobustScaler/StandardScaler\n",
    "        # ('minmax', MinMaxScaler(), to_min_max),\n",
    "    ], remainder='passthrough')  # passthrough/drop\n",
    "\n",
    "    pipeline = Pipeline([\n",
    "        ('preprocessor', preprocessor),\n",
    "        ('regressor', LogisticRegression(penalty='l2'))  # Linear Regression model\n",
    "    ])\n",
    "    pipeline.fit(X_train, y_train)\n",
    "\n",
    "    # R^2 Score, not RMSE\n",
    "    # train_score = pipeline.score(X_train, y_train)\n",
    "    # test_score = pipeline.score(X_test, y_test)\n",
    "    r2list.append(pipeline.score(X_test, y_test))\n",
    "    # print(f\"Training_Score: {train_score:.5f}\")\n",
    "\n",
    "    predicted_strokes = pipeline.predict(X_test)\n",
    "    rmse_list.append(np.sqrt(mean_squared_error(y_test, predicted_strokes)))\n",
    "    recall_list.append(recall_score(y_test, predicted_strokes))\n",
    "\n",
    "print(f\"# Used features count : {len(select_features)}\") #/len(df.columns)\n",
    "print(f\"# Mean Recall: {np.mean(recall_list):.5f}\")\n",
    "print(f\"# Mean r2 Test_Score: {np.mean(r2list):.5f}\")\n",
    "# Display RMSE\n",
    "print(f\"# Average prediction error: ~{np.mean(rmse_list):.4f} (RMSE)\")\n",
    "\n",
    "\n",
    "print(f\"min/max recall result{[min(recall_list), max(recall_list)]}\")"
   ]
  },
  {
   "cell_type": "markdown",
   "metadata": {},
   "source": [
    "With both undersampling and oversampling"
   ]
  },
  {
   "cell_type": "code",
   "execution_count": 46,
   "metadata": {},
   "outputs": [],
   "source": [
    "\n",
    "class_0_df = clean_df[clean_df['stroke'] == 0]\n",
    "class_1_df = clean_df[clean_df['stroke'] == 1]\n",
    "\n",
    "undersampled_class_0_data = class_0_df.sample(n=len(class_1_df)*2, replace=True, random_state=42)\n",
    "clean_df = pd.concat([class_1_df, undersampled_class_0_data, class_1_df])\n",
    "clean_df = clean_df.sample(frac=1, random_state=42)\n",
    "\n",
    "# Now, 'undersampled_data' contains an undersampled version of your original dataset\n"
   ]
  },
  {
   "cell_type": "code",
   "execution_count": 47,
   "metadata": {},
   "outputs": [
    {
     "name": "stdout",
     "output_type": "stream",
     "text": [
      "# Used features count : 10\n",
      "# Mean Recall: 0.74219\n",
      "# Mean r2 Test_Score: 0.72920\n",
      "# Average prediction error: ~0.5198 (RMSE)\n",
      "min/max recall result[0.6349206349206349, 0.8174603174603174]\n"
     ]
    }
   ],
   "source": [
    "\n",
    "\n",
    "\n",
    "# %%writefile my_python_file.py\n",
    "# All Columns to preprocess\n",
    "to_classify = ['work_type', 'smoking_status' ]\n",
    "to_robust = ['age', 'avg_glucose_level', 'bmi']\n",
    "# to_min_max = []\n",
    "already_processed = ['gender', 'hypertension', 'heart_disease', 'ever_married', 'Residence_type']\n",
    "# Bench : 'MiscFeature'\n",
    "select_features = to_classify + to_robust + already_processed # + to_min_max\n",
    "\n",
    "\n",
    "X = clean_df[select_features]\n",
    "y = clean_df['stroke']  # Target\n",
    "\n",
    "r2list = []\n",
    "rmse_list = []\n",
    "recall_list = []\n",
    "\n",
    "# allow more accurate model's performance estimation with more training reps and\n",
    "# different data splits on a small amount of data, needs to be 1 for prediction tasks.\n",
    "for i in range(50):\n",
    "    X_train, X_test, y_train, y_test = train_test_split(X, y, test_size=0.3, \\\n",
    "        random_state=np.random.randint(1, 20001))\n",
    "\n",
    "    # Building Pipeline\n",
    "    preprocessor = ColumnTransformer([\n",
    "        ('onehot', OneHotEncoder(), to_classify),\n",
    "        ('robust_scaler', MinMaxScaler(), to_robust), # RobustScaler/StandardScaler\n",
    "        # ('minmax', MinMaxScaler(), to_min_max),\n",
    "    ], remainder='passthrough')  # passthrough/drop\n",
    "\n",
    "    pipeline = Pipeline([\n",
    "        ('preprocessor', preprocessor),\n",
    "        ('regressor', LogisticRegression(penalty='l2', max_iter=1000, verbose = 0, n_jobs=4))  # Linear Regression model class_weight='balanced'\n",
    "    ])\n",
    "    pipeline.fit(X_train, y_train)\n",
    "\n",
    "    # R^2 Score, not RMSE\n",
    "    # train_score = pipeline.score(X_train, y_train)\n",
    "    # test_score = pipeline.score(X_test, y_test)\n",
    "    r2list.append(pipeline.score(X_test, y_test))\n",
    "    # print(f\"Training_Score: {train_score:.5f}\")\n",
    "\n",
    "    predicted_strokes = pipeline.predict(X_test)\n",
    "    rmse_list.append(np.sqrt(mean_squared_error(y_test, predicted_strokes)))\n",
    "    recall_list.append(recall_score(y_test, predicted_strokes))\n",
    "\n",
    "print(f\"# Used features count : {len(select_features)}\") #/len(df.columns)\n",
    "print(f\"# Mean Recall: {np.mean(recall_list):.5f}\")\n",
    "print(f\"# Mean r2 Test_Score: {np.mean(r2list):.5f}\")\n",
    "# Display RMSE\n",
    "print(f\"# Average prediction error: ~{np.mean(rmse_list):.4f} (RMSE)\")\n",
    "\n",
    "\n",
    "print(f\"min/max recall result{[min(recall_list), max(recall_list)]}\")"
   ]
  },
  {
   "cell_type": "markdown",
   "metadata": {},
   "source": [
    "One by One Features"
   ]
  },
  {
   "cell_type": "code",
   "execution_count": 48,
   "metadata": {},
   "outputs": [],
   "source": [
    "df = pd.read_csv(\"healthcare-dataset-stroke-data.csv\")\n",
    "clean_df = df.copy()\n",
    "\n",
    "if \"Other\" in clean_df.gender.value_counts():\n",
    "    clean_df = df[df.gender != 'Other']\n",
    "    # on va en discuter tkt\n",
    "    clean_df = clean_df[clean_df.age>30]\n",
    "    # clean_df = clean_df.dropna(axis=0, subset='bmi')\n",
    "\n",
    "    # binaires à faire dans la pipeline dans le script bonus\n",
    "    clean_df.ever_married = clean_df.ever_married.apply(lambda x : 1 if x == \"Yes\" else 0)\n",
    "    clean_df.Residence_type = clean_df.Residence_type.apply(lambda x : 1 if x == \"Urban\" else 0)\n",
    "    clean_df.gender = clean_df.gender.apply(lambda x : 1 if x == \"Female\" else 0)\n",
    "    clean_df = clean_df.dropna(axis=0, subset='bmi')\n"
   ]
  },
  {
   "cell_type": "code",
   "execution_count": 49,
   "metadata": {},
   "outputs": [],
   "source": [
    "# clean_df"
   ]
  },
  {
   "cell_type": "markdown",
   "metadata": {},
   "source": [
    "Categorical"
   ]
  },
  {
   "cell_type": "code",
   "execution_count": 50,
   "metadata": {},
   "outputs": [
    {
     "name": "stdout",
     "output_type": "stream",
     "text": [
      "# Used features count : 1\n",
      "# Mean Recall: 0.47654\n",
      "# Mean r2 Test_Score: 0.54585\n",
      "# Average prediction error: ~0.6629 (RMSE)\n",
      "min/max recall result[0.18518518518518517, 0.8769230769230769]\n"
     ]
    }
   ],
   "source": [
    "# %%writefile my_python_file.py\n",
    "# All Columns to preprocess\n",
    "# to_classify = ['work_type', 'smoking_status' ]\n",
    "# to_robust = ['age', 'avg_glucose_level', 'bmi']\n",
    "# # to_min_max = []\n",
    "# already_processed = ['gender', 'hypertension', 'heart_disease', 'ever_married', 'Residence_type']\n",
    "# Bench : 'MiscFeature'\n",
    "# select_features = ['work_type'] # + to_min_max\n",
    "select_features = ['smoking_status']\n",
    "\n",
    "X = clean_df[select_features]\n",
    "y = clean_df['stroke']  # Target\n",
    "r2list = []\n",
    "rmse_list = []\n",
    "recall_list = []\n",
    "\n",
    "# allow more accurate model's performance estimation with more training reps and\n",
    "# different data splits on a small amount of data, needs to be 1 for prediction tasks.\n",
    "for i in range(50):\n",
    "    X_train, X_test, y_train, y_test = train_test_split(X, y, test_size=0.3, \\\n",
    "        random_state=np.random.randint(1, 20001))\n",
    "\n",
    "    # Building Pipeline\n",
    "    preprocessor = ColumnTransformer([\n",
    "        ('onehot', OneHotEncoder(), select_features),\n",
    "        # ('robust_scaler', MinMaxScaler(), to_robust), # RobustScaler/StandardScaler\n",
    "        # ('minmax', MinMaxScaler(), to_min_max),\n",
    "    ], remainder='passthrough')  # passthrough/drop\n",
    "\n",
    "    pipeline = Pipeline([\n",
    "        ('preprocessor', preprocessor),\n",
    "        ('regressor', LogisticRegression(penalty='l2', max_iter=100, class_weight='balanced'))  # Linear Regression model class_weight='balanced' , n_jobs=4\n",
    "    ])\n",
    "    # print(f\"{X_train, y_train}\")\n",
    "    pipeline.fit(X_train, y_train)\n",
    "    r2list.append(pipeline.score(X_test, y_test))\n",
    "\n",
    "    predicted_strokes = pipeline.predict(X_test)\n",
    "    rmse_list.append(np.sqrt(mean_squared_error(y_test, predicted_strokes)))\n",
    "    recall_list.append(recall_score(y_test, predicted_strokes))\n",
    "\n",
    "print(f\"# Used features count : {len(select_features)}\") #/len(df.columns)\n",
    "print(f\"# Mean Recall: {np.mean(recall_list):.5f}\")\n",
    "print(f\"# Mean r2 Test_Score: {np.mean(r2list):.5f}\")\n",
    "# Display RMSE\n",
    "print(f\"# Average prediction error: ~{np.mean(rmse_list):.4f} (RMSE)\")\n",
    "\n",
    "\n",
    "print(f\"min/max recall result{[min(recall_list), max(recall_list)]}\")"
   ]
  },
  {
   "cell_type": "markdown",
   "metadata": {},
   "source": [
    "First attempts :\n",
    "\n",
    "work_type : 0.42\n",
    "\n",
    "smoking_status : 0.49\n"
   ]
  },
  {
   "cell_type": "markdown",
   "metadata": {},
   "source": [
    "Numericals"
   ]
  },
  {
   "cell_type": "code",
   "execution_count": 51,
   "metadata": {},
   "outputs": [
    {
     "name": "stdout",
     "output_type": "stream",
     "text": [
      "# Used features count : 1\n",
      "# Mean Recall: 0.53138\n",
      "# Mean r2 Test_Score: 0.46182\n",
      "# Average prediction error: ~0.7332 (RMSE)\n",
      "min/max recall result[0.2537313432835821, 0.6491228070175439]\n"
     ]
    }
   ],
   "source": [
    "\n",
    "# %%writefile my_python_file.py\n",
    "# All Columns to preprocess\n",
    "# to_classify = ['work_type', 'smoking_status' ]\n",
    "# to_robust = ['age', 'avg_glucose_level', 'bmi']\n",
    "# # to_min_max = []\n",
    "# already_processed = ['gender', 'hypertension', 'heart_disease', 'ever_married', 'Residence_type']\n",
    "# Bench : 'MiscFeature'\n",
    "# select_features = ['work_type'] # + to_min_max\n",
    "select_features = ['bmi']\n",
    "\n",
    "X = clean_df[select_features]\n",
    "y = clean_df['stroke']  # Target\n",
    "r2list = []\n",
    "rmse_list = []\n",
    "recall_list = []\n",
    "\n",
    "# allow more accurate model's performance estimation with more training reps and\n",
    "# different data splits on a small amount of data, needs to be 1 for prediction tasks.\n",
    "for i in range(50):\n",
    "    X_train, X_test, y_train, y_test = train_test_split(X, y, test_size=0.3, \\\n",
    "        random_state=np.random.randint(1, 20001))\n",
    "\n",
    "    # Building Pipeline\n",
    "    preprocessor = ColumnTransformer([\n",
    "        ('onehot', MinMaxScaler(), select_features),\n",
    "        # ('robust_scaler', MinMaxScaler(), to_robust), # RobustScaler/StandardScaler\n",
    "        # ('minmax', MinMaxScaler(), to_min_max),\n",
    "    ], remainder='passthrough')  # passthrough/drop\n",
    "\n",
    "    pipeline = Pipeline([\n",
    "        ('preprocessor', preprocessor),\n",
    "        ('regressor', LogisticRegression(penalty='l2', max_iter=100, class_weight='balanced'))  # Linear Regression model class_weight='balanced' , n_jobs=4\n",
    "    ])\n",
    "    # print(f\"{X_train, y_train}\")\n",
    "    pipeline.fit(X_train, y_train)\n",
    "    r2list.append(pipeline.score(X_test, y_test))\n",
    "\n",
    "    predicted_strokes = pipeline.predict(X_test)\n",
    "    rmse_list.append(np.sqrt(mean_squared_error(y_test, predicted_strokes)))\n",
    "    recall_list.append(recall_score(y_test, predicted_strokes))\n",
    "\n",
    "print(f\"# Used features count : {len(select_features)}\") #/len(df.columns)\n",
    "print(f\"# Mean Recall: {np.mean(recall_list):.5f}\")\n",
    "print(f\"# Mean r2 Test_Score: {np.mean(r2list):.5f}\")\n",
    "# Display RMSE\n",
    "print(f\"# Average prediction error: ~{np.mean(rmse_list):.4f} (RMSE)\")\n",
    "\n",
    "\n",
    "print(f\"min/max recall result{[min(recall_list), max(recall_list)]}\")"
   ]
  },
  {
   "cell_type": "markdown",
   "metadata": {},
   "source": [
    "First attempts :\n",
    "\n",
    "age : 0.67\n",
    "\n",
    "avg_glucose_level : 0.42\n",
    "\n",
    "bmi : 0.55574\n"
   ]
  },
  {
   "cell_type": "markdown",
   "metadata": {},
   "source": [
    "Binaries"
   ]
  },
  {
   "cell_type": "code",
   "execution_count": 52,
   "metadata": {},
   "outputs": [
    {
     "name": "stdout",
     "output_type": "stream",
     "text": [
      "# Used features count : 1\n",
      "# Mean Recall: 0.48088\n",
      "# Mean r2 Test_Score: 0.49431\n",
      "# Average prediction error: ~0.7111 (RMSE)\n",
      "min/max recall result[0.38181818181818183, 0.5714285714285714]\n"
     ]
    }
   ],
   "source": [
    "# %%writefile my_python_file.py\n",
    "# All Columns to preprocess\n",
    "# to_classify = ['work_type', 'smoking_status' ]\n",
    "# to_robust = ['age', 'avg_glucose_level', 'bmi']\n",
    "# # to_min_max = []\n",
    "# already_processed = ['gender', 'hypertension', 'heart_disease', 'ever_married', 'Residence_type']\n",
    "# Bench : 'MiscFeature'\n",
    "# select_features = ['work_type'] # + to_min_max\n",
    "select_features = ['Residence_type']\n",
    "\n",
    "X = clean_df[select_features]\n",
    "y = clean_df['stroke']  # Target\n",
    "r2list = []\n",
    "rmse_list = []\n",
    "recall_list = []\n",
    "\n",
    "# allow more accurate model's performance estimation with more training reps and\n",
    "# different data splits on a small amount of data, needs to be 1 for prediction tasks.\n",
    "for i in range(50):\n",
    "    X_train, X_test, y_train, y_test = train_test_split(X, y, test_size=0.3, \\\n",
    "        random_state=np.random.randint(1, 20001))\n",
    "\n",
    "    # Building Pipeline\n",
    "    preprocessor = ColumnTransformer([\n",
    "        ('onehot', OneHotEncoder(), select_features),\n",
    "        # ('robust_scaler', MinMaxScaler(), to_robust), # RobustScaler/StandardScaler\n",
    "        # ('minmax', MinMaxScaler(), to_min_max),\n",
    "    ], remainder='passthrough')  # passthrough/drop\n",
    "\n",
    "    pipeline = Pipeline([\n",
    "        ('preprocessor', preprocessor),\n",
    "        ('regressor', LogisticRegression(penalty='l2', max_iter=100, class_weight='balanced'))  # Linear Regression model class_weight='balanced' , n_jobs=4\n",
    "    ])\n",
    "    # print(f\"{X_train, y_train}\")\n",
    "    pipeline.fit(X_train, y_train)\n",
    "    r2list.append(pipeline.score(X_test, y_test))\n",
    "\n",
    "    predicted_strokes = pipeline.predict(X_test)\n",
    "    rmse_list.append(np.sqrt(mean_squared_error(y_test, predicted_strokes)))\n",
    "    recall_list.append(recall_score(y_test, predicted_strokes))\n",
    "\n",
    "print(f\"# Used features count : {len(select_features)}\") #/len(df.columns)\n",
    "print(f\"# Mean Recall: {np.mean(recall_list):.5f}\")\n",
    "print(f\"# Mean r2 Test_Score: {np.mean(r2list):.5f}\")\n",
    "# Display RMSE\n",
    "print(f\"# Average prediction error: ~{np.mean(rmse_list):.4f} (RMSE)\")\n",
    "\n",
    "\n",
    "print(f\"min/max recall result{[min(recall_list), max(recall_list)]}\")"
   ]
  },
  {
   "cell_type": "markdown",
   "metadata": {},
   "source": [
    "First attempts :\n",
    "\n",
    "gender : 0.42\n",
    "\n",
    "hypertension : 0.28\n",
    "\n",
    "heart_disease : 0.19\n",
    "\n",
    "ever_married : 0.42845\n",
    "\n",
    "Residence_type : 0.49\n"
   ]
  },
  {
   "cell_type": "markdown",
   "metadata": {},
   "source": [
    "work_type : 0.42\n",
    "\n",
    "smoking_status : 0.49\n",
    "\n",
    "\n",
    "\n",
    "\n",
    "\n",
    "age : 0.67\n",
    "\n",
    "avg_glucose_level : 0.42\n",
    "\n",
    "bmi : 0.55574\n",
    "\n",
    "\n",
    "\n",
    "\n",
    "gender : 0.42\n",
    "\n",
    "hypertension : 0.28\n",
    "\n",
    "heart_disease : 0.19\n",
    "\n",
    "ever_married : 0.42845\n",
    "\n",
    "Residence_type : 0.49"
   ]
  },
  {
   "cell_type": "code",
   "execution_count": 53,
   "metadata": {},
   "outputs": [],
   "source": [
    "features_to_keep = ['age', 'bmi', 'smoking_status', 'Residence_type']\n"
   ]
  },
  {
   "cell_type": "markdown",
   "metadata": {},
   "source": [
    "Regression with proper features"
   ]
  },
  {
   "cell_type": "code",
   "execution_count": 54,
   "metadata": {},
   "outputs": [
    {
     "name": "stdout",
     "output_type": "stream",
     "text": [
      "# Used features count : 4 - ['smoking_status', 'age', 'bmi', 'Residence_type']\n",
      "# Mean Recall: 0.71772\n",
      "# Mean r2 Test_Score: 0.68858\n",
      "# Average prediction error: ~0.5579 (RMSE)\n",
      "min/max recall result[0.6, 0.8166666666666667]\n"
     ]
    }
   ],
   "source": [
    "# %%writefile my_python_file.py\n",
    "# All Columns to preprocess\n",
    "to_classify = ['smoking_status' ]\n",
    "to_robust = ['age', 'bmi']\n",
    "# to_min_max = []\n",
    "already_processed = ['Residence_type']\n",
    "# Bench : 'MiscFeature'\n",
    "select_features = to_classify + to_robust + already_processed # + to_min_max\n",
    "\n",
    "\n",
    "X = clean_df[select_features]\n",
    "y = clean_df['stroke']  # Target\n",
    "\n",
    "r2list = []\n",
    "rmse_list = []\n",
    "recall_list = []\n",
    "\n",
    "# allow more accurate model's performance estimation with more training reps and\n",
    "# different data splits on a small amount of data, needs to be 1 for prediction tasks.\n",
    "for i in range(50):\n",
    "    X_train, X_test, y_train, y_test = train_test_split(X, y, test_size=0.3, \\\n",
    "        random_state=np.random.randint(1, 20001))\n",
    "\n",
    "    # Building Pipeline\n",
    "    preprocessor = ColumnTransformer([\n",
    "        ('onehot', OneHotEncoder(), to_classify),\n",
    "        ('robust_scaler', MinMaxScaler(), to_robust), # RobustScaler/StandardScaler\n",
    "        # ('minmax', MinMaxScaler(), to_min_max),\n",
    "    ], remainder='passthrough')  # passthrough/drop\n",
    "\n",
    "    pipeline = Pipeline([\n",
    "        ('preprocessor', preprocessor),\n",
    "        ('regressor', LogisticRegression(penalty='l2', max_iter=1000, class_weight='balanced', n_jobs=8))  # Linear Regression model class_weight='balanced'\n",
    "    ])\n",
    "    pipeline.fit(X_train, y_train)\n",
    "\n",
    "    # R^2 Score, not RMSE\n",
    "    # train_score = pipeline.score(X_train, y_train)\n",
    "    # test_score = pipeline.score(X_test, y_test)\n",
    "    r2list.append(pipeline.score(X_test, y_test))\n",
    "    # print(f\"Training_Score: {train_score:.5f}\")\n",
    "\n",
    "    predicted_strokes = pipeline.predict(X_test)\n",
    "    rmse_list.append(np.sqrt(mean_squared_error(y_test, predicted_strokes)))\n",
    "    recall_list.append(recall_score(y_test, predicted_strokes))\n",
    "\n",
    "print(f\"# Used features count : {len(select_features) } - {select_features}\") #/len(df.columns)\n",
    "print(f\"# Mean Recall: {np.mean(recall_list):.5f}\")\n",
    "print(f\"# Mean r2 Test_Score: {np.mean(r2list):.5f}\")\n",
    "# Display RMSE\n",
    "print(f\"# Average prediction error: ~{np.mean(rmse_list):.4f} (RMSE)\")\n",
    "\n",
    "\n",
    "print(f\"min/max recall result{[min(recall_list), max(recall_list)]}\")"
   ]
  },
  {
   "cell_type": "code",
   "execution_count": 55,
   "metadata": {},
   "outputs": [
    {
     "name": "stdout",
     "output_type": "stream",
     "text": [
      "# Used features count : 2 - ['age', 'bmi']\n",
      "# Mean Recall: 0.70349\n",
      "# Mean r2 Test_Score: 0.67949\n",
      "# Average prediction error: ~0.5660 (RMSE)\n",
      "min/max recall result[0.5892857142857143, 0.8448275862068966]\n"
     ]
    }
   ],
   "source": [
    "# %%writefile my_python_file.py\n",
    "# All Columns to preprocess\n",
    "to_robust = ['age', 'bmi']\n",
    "# to_min_max = []\n",
    "# Bench : 'MiscFeature'\n",
    "select_features = to_robust # + to_min_max\n",
    "\n",
    "\n",
    "X = clean_df[select_features]\n",
    "y = clean_df['stroke']  # Target\n",
    "\n",
    "r2list = []\n",
    "rmse_list = []\n",
    "recall_list = []\n",
    "\n",
    "# allow more accurate model's performance estimation with more training reps and\n",
    "# different data splits on a small amount of data, needs to be 1 for prediction tasks.\n",
    "for i in range(50):\n",
    "    X_train, X_test, y_train, y_test = train_test_split(X, y, test_size=0.3, \\\n",
    "        random_state=np.random.randint(1, 20001))\n",
    "\n",
    "    # Building Pipeline\n",
    "    preprocessor = ColumnTransformer([\n",
    "        ('robust_scaler', MinMaxScaler(), to_robust) # RobustScaler/StandardScaler\n",
    "        # ('minmax', MinMaxScaler(), to_min_max),\n",
    "    ], remainder='passthrough')  # passthrough/drop\n",
    "\n",
    "    pipeline = Pipeline([\n",
    "        ('preprocessor', preprocessor),\n",
    "        ('regressor', LogisticRegression(penalty='l2', max_iter=1000, class_weight='balanced', n_jobs=8))  # Linear Regression model class_weight='balanced'\n",
    "    ])\n",
    "    pipeline.fit(X_train, y_train)\n",
    "\n",
    "    # R^2 Score, not RMSE\n",
    "    # train_score = pipeline.score(X_train, y_train)\n",
    "    # test_score = pipeline.score(X_test, y_test)\n",
    "    r2list.append(pipeline.score(X_test, y_test))\n",
    "    # print(f\"Training_Score: {train_score:.5f}\")\n",
    "\n",
    "    predicted_strokes = pipeline.predict(X_test)\n",
    "    rmse_list.append(np.sqrt(mean_squared_error(y_test, predicted_strokes)))\n",
    "    recall_list.append(recall_score(y_test, predicted_strokes))\n",
    "\n",
    "print(f\"# Used features count : {len(select_features) } - {select_features}\") #/len(df.columns)\n",
    "print(f\"# Mean Recall: {np.mean(recall_list):.5f}\")\n",
    "print(f\"# Mean r2 Test_Score: {np.mean(r2list):.5f}\")\n",
    "# Display RMSE\n",
    "print(f\"# Average prediction error: ~{np.mean(rmse_list):.4f} (RMSE)\")\n",
    "\n",
    "\n",
    "print(f\"min/max recall result{[min(recall_list), max(recall_list)]}\")"
   ]
  },
  {
   "cell_type": "markdown",
   "metadata": {},
   "source": [
    "# RandomForestClassifier"
   ]
  },
  {
   "cell_type": "code",
   "execution_count": 73,
   "metadata": {},
   "outputs": [
    {
     "name": "stdout",
     "output_type": "stream",
     "text": [
      "[1]\n"
     ]
    }
   ],
   "source": [
    "from sklearn.ensemble import RandomForestClassifier\n",
    "# from sklearn.datasets import make_classification\n",
    "# X, y = make_classification(n_samples=1000, n_features=4,\n",
    "#                            n_informative=2, n_redundant=0,\n",
    "#                            random_state=0, shuffle=False)\n",
    "\n",
    "\n",
    "\n",
    "# clf = RandomForestClassifier(max_depth=2, random_state=0)\n",
    "# clf.fit(X, y)\n",
    "# print(clf.predict([[0, 0, 0, 0]]))\n"
   ]
  },
  {
   "cell_type": "code",
   "execution_count": 93,
   "metadata": {},
   "outputs": [
    {
     "name": "stdout",
     "output_type": "stream",
     "text": [
      "# Used features count : 4 - ['smoking_status', 'age', 'bmi', 'Residence_type']\n",
      "# Mean Recall: 0.70671\n",
      "# Mean r2 Test_Score: 0.65277\n",
      "# Average prediction error: ~0.5874 (RMSE)\n",
      "min/max recall result[0.5272727272727272, 0.875]\n"
     ]
    }
   ],
   "source": [
    "\n",
    "to_classify = ['smoking_status' ]\n",
    "to_robust = ['age', 'bmi']\n",
    "already_processed = ['Residence_type']\n",
    "\n",
    "select_features = to_classify + to_robust + already_processed # + to_min_max\n",
    "\n",
    "X = clean_df[select_features]\n",
    "y = clean_df['stroke']  # Target\n",
    "\n",
    "r2list = []\n",
    "rmse_list = []\n",
    "recall_list = []\n",
    "\n",
    "# allow more accurate model's performance estimation with more training reps and\n",
    "# different data splits on a small amount of data, needs to be 1 for prediction tasks.\n",
    "for i in range(50):\n",
    "    X_train, X_test, y_train, y_test = train_test_split(X, y, test_size=0.3, \\\n",
    "        random_state=np.random.randint(1, 20001))\n",
    "\n",
    "    # Building Pipeline\n",
    "    preprocessor = ColumnTransformer([\n",
    "        ('onehot', OneHotEncoder(), to_classify),\n",
    "        ('robust_scaler', MinMaxScaler(), to_robust), # RobustScaler/StandardScaler\n",
    "        # ('minmax', MinMaxScaler(), to_min_max),\n",
    "    ], remainder='passthrough')  # passthrough/drop\n",
    "\n",
    "    pipeline = Pipeline([\n",
    "        ('preprocessor', preprocessor),\n",
    "        ('random_forest', RandomForestClassifier(max_depth=1, n_estimators=1000, random_state=0, class_weight='balanced'))\n",
    "        # ('regressor', LogisticRegression(penalty='l2', max_iter=1000, class_weight='balanced', n_jobs=8))  # Linear Regression model class_weight='balanced'\n",
    "    ])\n",
    "    pipeline.fit(X_train, y_train)\n",
    "\n",
    "    # R^2 Score, not RMSE\n",
    "    # train_score = pipeline.score(X_train, y_train)\n",
    "    # test_score = pipeline.score(X_test, y_test)\n",
    "    r2list.append(pipeline.score(X_test, y_test))\n",
    "    # print(f\"Training_Score: {train_score:.5f}\")\n",
    "\n",
    "    predicted_strokes = pipeline.predict(X_test)\n",
    "    rmse_list.append(np.sqrt(mean_squared_error(y_test, predicted_strokes)))\n",
    "    recall_list.append(recall_score(y_test, predicted_strokes))\n",
    "\n",
    "print(f\"# Used features count : {len(select_features) } - {select_features}\") #/len(df.columns)\n",
    "print(f\"# Mean Recall: {np.mean(recall_list):.5f}\")\n",
    "print(f\"# Mean r2 Test_Score: {np.mean(r2list):.5f}\")\n",
    "# Display RMSE\n",
    "print(f\"# Average prediction error: ~{np.mean(rmse_list):.4f} (RMSE)\")\n",
    "\n",
    "\n",
    "print(f\"min/max recall result{[min(recall_list), max(recall_list)]}\")"
   ]
  },
  {
   "cell_type": "code",
   "execution_count": 95,
   "metadata": {},
   "outputs": [],
   "source": [
    "from sklearn.tree import DecisionTreeClassifier"
   ]
  },
  {
   "cell_type": "code",
   "execution_count": 150,
   "metadata": {},
   "outputs": [],
   "source": [
    "df = pd.read_csv(\"healthcare-dataset-stroke-data.csv\")\n",
    "clean_df = df.copy()\n",
    "\n",
    "if \"Other\" in clean_df.gender.value_counts():\n",
    "    clean_df = df[df.gender != 'Other']\n",
    "    # on va en discuter tkt\n",
    "    clean_df = clean_df[clean_df.age>30]\n",
    "    # clean_df = clean_df.dropna(axis=0, subset='bmi')\n",
    "\n",
    "    # binaires à faire dans la pipeline dans le script bonus\n",
    "    clean_df.ever_married = clean_df.ever_married.apply(lambda x : 1 if x == \"Yes\" else 0)\n",
    "    clean_df.Residence_type = clean_df.Residence_type.apply(lambda x : 1 if x == \"Urban\" else 0)\n",
    "    clean_df.gender = clean_df.gender.apply(lambda x : 1 if x == \"Female\" else 0)\n",
    "    # clean_df.bmi = clean_df.bmi.apply(lambda x : x if isinstance(x, float) else 0)\n",
    "    clean_df.bmi.fillna(0, inplace=True)\n"
   ]
  },
  {
   "cell_type": "code",
   "execution_count": 155,
   "metadata": {},
   "outputs": [
    {
     "name": "stdout",
     "output_type": "stream",
     "text": [
      "# Used features count : 4 - ['smoking_status', 'age', 'bmi', 'Residence_type']\n",
      "# Mean Recall: 0.80561\n",
      "# Mean r2 Test_Score: 0.59205\n",
      "# Average prediction error: ~0.6363 (RMSE)\n",
      "min/max recall result[0.5, 0.9333333333333333]\n"
     ]
    }
   ],
   "source": [
    "\n",
    "to_classify = ['smoking_status' ]\n",
    "to_robust = ['age', 'bmi']\n",
    "already_processed = ['Residence_type']\n",
    "\n",
    "select_features = to_classify + to_robust + already_processed # + to_min_max\n",
    "\n",
    "X = clean_df[select_features]\n",
    "y = clean_df['stroke']  # Target\n",
    "\n",
    "r2list = []\n",
    "rmse_list = []\n",
    "recall_list = []\n",
    "\n",
    "# allow more accurate model's performance estimation with more training reps and\n",
    "# different data splits on a small amount of data, needs to be 1 for prediction tasks.\n",
    "for i in range(50):\n",
    "    X_train, X_test, y_train, y_test = train_test_split(X, y, test_size=0.3, \\\n",
    "        random_state=np.random.randint(1, 20001))\n",
    "\n",
    "    # Building Pipeline\n",
    "    preprocessor = ColumnTransformer([\n",
    "        ('onehot', OneHotEncoder(), to_classify),\n",
    "        ('robust_scaler', MinMaxScaler(), to_robust), # RobustScaler/StandardScaler\n",
    "        # ('minmax', MinMaxScaler(), to_min_max),\n",
    "    ], remainder='passthrough')  # passthrough/drop\n",
    "\n",
    "    pipeline = Pipeline([\n",
    "        ('preprocessor', preprocessor),\n",
    "        ('random_forest', DecisionTreeClassifier(max_depth=2, random_state=0, class_weight='balanced')) #class_weight\n",
    "        # ('regressor', LogisticRegression(penalty='l2', max_iter=1000, class_weight='balanced', n_jobs=8))  # Linear Regression model class_weight='balanced'\n",
    "    ])\n",
    "    pipeline.fit(X_train, y_train)\n",
    "\n",
    "    r2list.append(pipeline.score(X_test, y_test))\n",
    "\n",
    "    predicted_strokes = pipeline.predict(X_test)\n",
    "    rmse_list.append(np.sqrt(mean_squared_error(y_test, predicted_strokes)))\n",
    "    recall_list.append(recall_score(y_test, predicted_strokes))\n",
    "\n",
    "print(f\"# Used features count : {len(select_features) } - {select_features}\") #/len(df.columns)\n",
    "print(f\"# Mean Recall: {np.mean(recall_list):.5f}\")\n",
    "print(f\"# Mean r2 Test_Score: {np.mean(r2list):.5f}\")\n",
    "# Display RMSE\n",
    "print(f\"# Average prediction error: ~{np.mean(rmse_list):.4f} (RMSE)\")\n",
    "\n",
    "\n",
    "print(f\"min/max recall result{[min(recall_list), max(recall_list)]}\")"
   ]
  }
 ],
 "metadata": {
  "kernelspec": {
   "display_name": "stroke-alert",
   "language": "python",
   "name": "python3"
  },
  "language_info": {
   "codemirror_mode": {
    "name": "ipython",
    "version": 3
   },
   "file_extension": ".py",
   "mimetype": "text/x-python",
   "name": "python",
   "nbconvert_exporter": "python",
   "pygments_lexer": "ipython3",
   "version": "3.8.12"
  }
 },
 "nbformat": 4,
 "nbformat_minor": 2
}
